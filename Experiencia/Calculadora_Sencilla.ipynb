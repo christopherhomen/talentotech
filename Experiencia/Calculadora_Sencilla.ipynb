{
  "nbformat": 4,
  "nbformat_minor": 0,
  "metadata": {
    "colab": {
      "provenance": []
    },
    "kernelspec": {
      "name": "python3",
      "display_name": "Python 3"
    },
    "language_info": {
      "name": "python"
    }
  },
  "cells": [
    {
      "cell_type": "code",
      "execution_count": null,
      "metadata": {
        "id": "RL_EvR1SggWb"
      },
      "outputs": [],
      "source": [
        "print('Ejemplo Calculadora Sencilla (+,-,*,/) :')\n",
        "'''\n",
        "ESTO ES UN COMENTARIO MULTILINEA\n",
        "print('Ejemplo Calculadora Sencilla (+,-,*,/) :\\n')\n",
        "PODEMOS DESCOMENTAR Y PROBAR EL print ANTERIOR\n",
        "'''\n",
        "print()\n",
        "#MENU:\n",
        "print(\"MENU:\")\n",
        "print(\"1: Sumar\")\n",
        "#print(\"1: +\")\n",
        "print(\"2: -\")\n",
        "print(\"3: *\")\n",
        "print(\"4: Dividir (/)\")\n",
        "print()\n",
        "#Ingreso de datos:\n",
        "opcion=input(\"Ingrese la opción deseada del menú: \") # la opción se guarda como cadena\n",
        "#opcion=int(input(\"Ingrese la opción deseada del menú: \")) # la opción se guarda como cadena\n",
        "numero_uno=float(input('Ingrese el primer número de la operación:'))# guarda como flotante (número real)\n",
        "numero_dos=float(input('Ingrese el segundo número de la operación:'))# guarda como flotante (número real)\n",
        "#Posibilidades para ejecutar la calculadora:\n",
        "#if opcion=='1':\n",
        "#if opcion=='+':\n",
        "#if opcion=='Sumar':\n",
        "if opcion==1:\n",
        "  print(\"Vamos a sumar(+) los dos valores ingresados:\")\n",
        "  print('La suma es:',numero_uno+numero_dos)\n",
        "if opcion=='2':\n",
        "  print(\"Vamos a restar(-) los dos valores ingresados:\\n\")\n",
        "  resta=numero_uno-numero_dos\n",
        "  #print(\"Resultado=\"+str(resta)) # voy a concatenar dos cadenas(str1+str2: no suma sino que junta, str1str2)\n",
        "  print(\"Resultado=\",resta) # voy a concatenar dos cadenas(str1+str2: no suma sino que junta, str1str2)\n",
        "if opcion=='3':\n",
        "  print(\"Vamos a multiplicar(*) los dos valores ingresados:\\n\")\n",
        "  #print(f'{numero_uno}*{numero_dos}={numero_uno*numero_dos}')\n",
        "  mult=numero_uno*numero_dos\n",
        "  print(f'{numero_uno}*{numero_dos}={mult}')\n",
        "  #print('{}*{}'.format(numero_uno,numero_dos),\"=\",'{}'.format(mult))\n",
        "if opcion=='4'or opcion=='/' or opcion=='Dividir':\n",
        "  print(\"Vamos a dividir(/) los dos valores ingresados:\\n\")\n",
        "  #VALIDANDO EL DENOMINADOR (debe ser diferente de cero)\n",
        "  if numero_dos!=0:\n",
        "    print(numero_uno/numero_dos)\n",
        "  else:\n",
        "    print(\"¡No es posible dividir entre cero!\")\n"
      ]
    }
  ]
}