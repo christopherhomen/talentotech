{
  "cells": [
    {
      "cell_type": "code",
      "execution_count": null,
      "metadata": {
        "colab": {
          "base_uri": "https://localhost:8080/",
          "height": 454
        },
        "id": "sJeJUNRPwsZ2",
        "outputId": "ee74e63b-5bc4-4391-b07d-8420377241cd"
      },
      "outputs": [
        {
          "name": "stdout",
          "output_type": "stream",
          "text": [
            "Ejemplo Calculadora Sencilla (+,-,*,/):\n",
            "\n",
            "MENU:\n",
            "0: Salir\n",
            "1: Sumar (+)\n",
            "2: Restar (-)\n",
            "3: Multiplicar (*)\n",
            "4: Dividir (/)\n",
            "5: Logaritmo (log10)\n",
            "6: Coseno (cos)\n",
            "7: Tangente (tan)\n",
            "8: Seno (sen)\n",
            "9: potenciacion (x^y)\n",
            "10: raiz cuadrada\n",
            "\n",
            "Ingrese la opción deseada del menú:0\n",
            "Ingrese el primer número de la operación:3\n",
            "Ingrese el segundo número de la operación:3\n",
            "¡Hasta luego!\n"
          ]
        },
        {
          "ename": "SystemExit",
          "evalue": "",
          "output_type": "error",
          "traceback": [
            "An exception has occurred, use %tb to see the full traceback.\n",
            "\u001b[0;31mSystemExit\u001b[0m\n"
          ]
        },
        {
          "name": "stderr",
          "output_type": "stream",
          "text": [
            "/usr/local/lib/python3.12/dist-packages/IPython/core/interactiveshell.py:3561: UserWarning: To exit: use 'exit', 'quit', or Ctrl-D.\n",
            "  warn(\"To exit: use 'exit', 'quit', or Ctrl-D.\", stacklevel=1)\n"
          ]
        }
      ],
      "source": [
        "#Importando la Libreria/biblioteca de matemáticas de Python\n",
        "import math\n",
        "import sys\n",
        "#DEFINICION DE LAS FUNCIONES:\n",
        "def mostrar_título():\n",
        "  '''\n",
        "  input:no hay entradas\n",
        "  process: mostrar titulo (está implicito en el nombre de la función, se sugiere que sea un verbo)\n",
        "  output: no hay salidas\n",
        "  '''\n",
        "\n",
        "  print('Ejemplo Calculadora Sencilla (+,-,*,/):')\n",
        "\n",
        "def mostrar_menu():\n",
        "  '''input: no recibe nada (0 entradas)\n",
        "  process:mostrar menu\n",
        "  output: no retorna nada (0 salidas)'''\n",
        "  print()\n",
        "  print(\"MENU:\")\n",
        "  print(\"0: Salir\")\n",
        "  print(\"1: Sumar (+)\")\n",
        "  print(\"2: Restar (-)\")\n",
        "  print(\"3: Multiplicar (*)\")\n",
        "  print(\"4: Dividir (/)\")\n",
        "  print(\"5: Logaritmo (log10)\")\n",
        "  print(\"6: Coseno (cos)\")\n",
        "  print(\"7: Tangente (tan)\")\n",
        "  print(\"8: Seno (sen)\")\n",
        "  print(\"9: potenciacion (x^y)\")\n",
        "  print(\"10: raiz cuadrada\")\n",
        "  print()\n",
        "\n",
        "def ingresar_datos():\n",
        "  '''input: no hay entradas\n",
        "  process:ingresar datos (recibir/leer del usuario)\n",
        "  output: tres variables que contienen localmente las decisiones del usuario (opción, numero_uno, numero_dos)'''\n",
        "  opcion= input(\"Ingrese la opción deseada del menú:\")\n",
        "  numero_uno= float(input(\"Ingrese el primer número de la operación:\")) #Guarda como flotante (número real)\n",
        "  numero_dos= float(input(\"Ingrese el segundo número de la operación:\")) #Guarda como flotante (número real)\n",
        "  return opcion, numero_uno, numero_dos\n",
        "\n",
        "#POR FACILIDAD, LAS 7 FUNCIONES SIGUIENTES TIENEN ENTRADAS Y SALIDAS\n",
        "def calcular_suma(numero_uno, numero_dos):\n",
        "  '''input: 2 numeros\n",
        "  process: calcular suma (sumar)\n",
        "  output: suma'''\n",
        "  suma=numero_uno+numero_dos\n",
        "  return suma\n",
        "\n",
        "def calcular_resta(numero_uno, numero_dos):\n",
        "  return numero_uno - numero_dos\n",
        "\n",
        "def calcular_multiplicacion(numero_uno, numero_dos):\n",
        "  return numero_uno * numero_dos\n",
        "\n",
        "def calcular_division(numero_uno, numero_dos):\n",
        "  return numero_uno / numero_dos\n",
        "\n",
        "def calcular_logaritmo_base10(numero):#x=numero (uno,dos)\n",
        "  #aquí uso la función logaritmo que está dentro de math\n",
        "  logaritmo=math.log10(numero)#x=numero\n",
        "  return logaritmo\n",
        "\n",
        "def calcular_coseno(angulo_radianes):#x=numero (uno,dos):se debe asociar con un angulo que se toma por defecto en radianes (Si está en grados, debe convertirse  a radianes =angulo*3.1416/180)\n",
        "  #aqui uso la función coseno que esta dentro de math\n",
        "  coseno= math.cos(angulo_radianes)#x=numero  (angulo_radianes)\n",
        "  return coseno\n",
        "\n",
        "def calcular_tangente(angulo_radianes):#x=numero (uno,dos): se debe asociar con un angulo que se toma por defecto en radines (Si está en grados, debe convertirse a radianes =angulo*3.1416/180)\n",
        "  #aqui uso la función tangente que esta dentro de math\n",
        "  tangente= math.tan(angulo_radianes)#x=numero (angulo_radianes)\n",
        "  return tangente\n",
        "\n",
        "def calcular_seno(angulo_radianes):#x=numero (uno,dos): se debe asociar con un angulo que se toma por defecto en radianes (Si está en grados, debe convertirse a radianes =angulo*3.1416/180)\n",
        "  #aqui uso la función seno que esta dentro de math\n",
        "  seno= math.sin(angulo_radianes)#x=numero (angulo_radianes)\n",
        "  return seno\n",
        "\n",
        "def calcular_potenciacion(numero):\n",
        "  return numero**2\n",
        "\n",
        "def calcular_raiz_cuadrada(numero):\n",
        "  return math.sqrt(numero)\n",
        "\n",
        "def procesar_y_mostrar_operacion(opcion,numero_uno,numero_dos):\n",
        "  '''input: opcion, numero, numero_dos\n",
        "  process: procesar y mostrar operacion (analizar las posibilidades para ejecutar la calculadora)\n",
        "  output: no retorna valor porque por dentro imprime por pantalla todo '''\n",
        "\n",
        "  if opcion == \"1\" or opcion == \"+\" or opcion== \"Sumar\":\n",
        "    print(\"Vamos a sumar (+) los dos valores ingresados:\")\n",
        "    resultado=calcular_suma(numero_uno, numero_dos)\n",
        "    print(\"La suma es:\", resultado)\n",
        "  if opcion == \"2\" or opcion == \"-\" or opcion== \"Restar\":\n",
        "    print(\"Vamos a restar (-) los dos valores ingresados:\\n\")\n",
        "    resultado=calcular_resta(numero_uno, numero_dos)\n",
        "    print(\"Resultado:\", resultado)\n",
        "  if opcion == \"3\" or opcion == \"*\" or opcion== \"Multiplicar\":\n",
        "    print(\"Vamos a multiplicar (*) los dos valores ingresados:\\n\")\n",
        "    resultado=calcular_multiplicacion(numero_uno, numero_dos)\n",
        "    print(\"Resultado:\", resultado)\n",
        "  if opcion == \"4\" or opcion == \"/\" or opcion== \"Dividir\":\n",
        "    print(\"Vamos a dividir (/) los dos valores ingresados:\\n\")\n",
        "    #VALIDANDO EL DENOMINADOR (debe ser diferente de cero)\n",
        "    if numero_dos!=0:\n",
        "      resultado=calcular_division(numero_uno, numero_dos)\n",
        "      print(\"Resultado:\", resultado)\n",
        "    else:\n",
        "      print(\"¡No es posible dividir entre cero!\")\n",
        "  if opcion == \"5\" or opcion== \"log10\" or opcion== \"logaritmo\":\n",
        "    print(\"Vamos a calcular el logaritmo (log10) de los dos valores ingresados:\\n\")\n",
        "    resultado1=calcular_logaritmo_base10(numero_uno)\n",
        "    resultado2=calcular_logaritmo_base10(numero_dos)\n",
        "    print(\"Resultado1:\", resultado1)\n",
        "    print(\"Resultado2:\", resultado2)\n",
        "  if opcion == \"6\" or opcion == \"cos\" or opcion== \"Coseno\":\n",
        "    print(\"Vamos a calcular el coseno (cos) de los dos valores ingresados:\\n\")\n",
        "    resultado1=calcular_coseno(numero_uno)\n",
        "    resultado2=calcular_coseno(numero_dos)\n",
        "    print(\"Resultado1:\", resultado1)\n",
        "    print(\"Resultado2:\", resultado2)\n",
        "  if opcion == \"7\" or opcion == \"tan\" or opcion== \"Tangente\":\n",
        "    print(\"Vamos a calcular la tangente (tan) de los dos valores ingresados:\\n\")\n",
        "    resultado1=calcular_tangente(numero_uno)\n",
        "    resultado2=calcular_tangente(numero_dos)\n",
        "    print(\"Resultado1:\", resultado1)\n",
        "    print(\"Resultado2:\", resultado2)\n",
        "  if opcion == \"8\" or opcion == \"sen\" or opcion== \"Seno\":\n",
        "    print(\"Vamos a calcular el seno (sen) de los dos valores ingresados:\\n\")\n",
        "    resultado1=calcular_seno(numero_uno)\n",
        "    resultado2=calcular_seno(numero_dos)\n",
        "    print(\"Resultado1:\", resultado1)\n",
        "    print(\"Resultado2:\", resultado2)\n",
        "  if opcion == \"9\" or opcion == \"potenciacion\" or opcion== \"potencia\":\n",
        "    print(\"Vamos a calcular la potenciacion (x^y) de los dos valores ingresados:\\n\")\n",
        "    resultado1=calcular_potenciacion(numero_uno)\n",
        "    resultado2=calcular_potenciacion(numero_dos)\n",
        "    print(\"Resultado1:\", resultado1)\n",
        "    print(\"Resultado2:\", resultado2)\n",
        "  if opcion == \"10\" or opcion == \"raiz\" or opcion== \"raiz cuadrada\":\n",
        "    print(\"Vamos a calcular la raiz cuadrada de los dos valores ingresados:\\n\")\n",
        "    resultado1=calcular_raiz_cuadrada(numero_uno)\n",
        "    resultado2=calcular_raiz_cuadrada(numero_dos)\n",
        "    print(\"Resultado1:\", resultado1)\n",
        "    print(\"Resultado2:\", resultado2)\n",
        "\n",
        "def llamar_funciones():\n",
        "  '''input: no hay entradas\n",
        "  process: llamar funciones (en orden: mostra_titulo, mostrar_menu, ingresar_datos, procesar_y_mostrar_operacion)\n",
        "  output: no hay salidas'''\n",
        "\n",
        "  mostrar_título()\n",
        "  mostrar_menu()\n",
        "  opcion, numero_uno, numero_dos=ingresar_datos()\n",
        "  procesar_y_mostrar_operacion(opcion,numero_uno,numero_dos)\n",
        "\n",
        "#EJECUCION DEL PROGRAMA:\n",
        "llamar_funciones()"
      ]
    },
    {
      "cell_type": "markdown",
      "metadata": {
        "id": "zyujR2Lr07e6"
      },
      "source": [
        "}versionb 2"
      ]
    },
    {
      "cell_type": "code",
      "execution_count": null,
      "metadata": {
        "colab": {
          "base_uri": "https://localhost:8080/"
        },
        "id": "n4vY1mi906_W",
        "outputId": "3d41da88-2afa-415c-c6cc-470817c33709"
      },
      "outputs": [
        {
          "name": "stdout",
          "output_type": "stream",
          "text": [
            "Ejemplo Calculadora Sencilla (+,-,*,/):\n",
            "\n",
            "MENU:\n",
            "0: Salir\n",
            "1: Sumar (+)\n",
            "2: Restar (-)\n",
            "3: Multiplicar (*)\n",
            "4: Dividir (/)\n",
            "5: Logaritmo (log10)\n",
            "6: Coseno (cos)\n",
            "7: Tangente (tan)\n",
            "8: Seno (sen)\n",
            "9: potenciacion (x^y)\n",
            "10: raiz cuadrada\n",
            "\n",
            "Ingrese la opción deseada del menú: 1\n",
            "Ingrese el primer número de la operación: 2\n",
            "Ingrese el segundo número de la operación: 3\n",
            "Vamos a sumar (+) los dos valores ingresados:\n",
            "La suma es: 5.0\n"
          ]
        }
      ],
      "source": [
        "# Importando la Libreria/biblioteca de matemáticas de Python\n",
        "import math\n",
        "\n",
        "# DEFINICION DE LAS FUNCIONES:\n",
        "def mostrar_título():\n",
        "    '''\n",
        "    input: no hay entradas\n",
        "    process: mostrar titulo (está implicito en el nombre de la función, se sugiere que sea un verbo)\n",
        "    output: no hay salidas\n",
        "    '''\n",
        "    print('Ejemplo Calculadora Sencilla (+,-,*,/):')\n",
        "\n",
        "def mostrar_menu():\n",
        "    '''input: no recibe nada (0 entradas)\n",
        "    process: mostrar menu\n",
        "    output: no retorna nada (0 salidas)'''\n",
        "    print()\n",
        "    print(\"MENU:\")\n",
        "    print(\"0: Salir\")\n",
        "    print(\"1: Sumar (+)\")\n",
        "    print(\"2: Restar (-)\")\n",
        "    print(\"3: Multiplicar (*)\")\n",
        "    print(\"4: Dividir (/)\")\n",
        "    print(\"5: Logaritmo (log10)\")\n",
        "    print(\"6: Coseno (cos)\")\n",
        "    print(\"7: Tangente (tan)\")\n",
        "    print(\"8: Seno (sen)\")\n",
        "    print(\"9: potenciacion (x^y)\")\n",
        "    print(\"10: raiz cuadrada\")\n",
        "    print()\n",
        "\n",
        "def ingresar_datos():\n",
        "    '''input: no hay entradas\n",
        "    process: ingresar datos (recibir/leer del usuario)\n",
        "    output: tres variables (opcion, numero_uno, numero_dos).\n",
        "            Si la opción es \"0\", no se piden números y se devuelven como None.'''\n",
        "    opcion = input(\"Ingrese la opción deseada del menú: \")\n",
        "\n",
        "    if opcion == \"0\":\n",
        "        # No pedimos números si el usuario quiere salir\n",
        "        return opcion, None, None\n",
        "\n",
        "    # Si no es salir, pedimos los dos números\n",
        "    numero_uno = float(input(\"Ingrese el primer número de la operación: \"))\n",
        "    numero_dos = float(input(\"Ingrese el segundo número de la operación: \"))\n",
        "    return opcion, numero_uno, numero_dos\n",
        "\n",
        "# POR FACILIDAD, LAS FUNCIONES SIGUIENTES TIENEN ENTRADAS Y SALIDAS\n",
        "def calcular_suma(numero_uno, numero_dos):\n",
        "    '''input: 2 numeros\n",
        "    process: calcular suma (sumar)\n",
        "    output: suma'''\n",
        "    suma = numero_uno + numero_dos\n",
        "    return suma\n",
        "\n",
        "def calcular_resta(numero_uno, numero_dos):\n",
        "    return numero_uno - numero_dos\n",
        "\n",
        "def calcular_multiplicacion(numero_uno, numero_dos):\n",
        "    return numero_uno * numero_dos\n",
        "\n",
        "def calcular_division(numero_uno, numero_dos):\n",
        "    return numero_uno / numero_dos\n",
        "\n",
        "def calcular_logaritmo_base10(numero):  # x=numero (uno,dos)\n",
        "    # aquí uso la función logaritmo que está dentro de math\n",
        "    logaritmo = math.log10(numero)  # x=numero\n",
        "    return logaritmo\n",
        "\n",
        "def calcular_coseno(angulo_radianes):  # x=numero (uno,dos)\n",
        "    # aqui uso la función coseno que esta dentro de math\n",
        "    coseno = math.cos(angulo_radianes)  # x=numero  (angulo_radianes)\n",
        "    return coseno\n",
        "\n",
        "def calcular_tangente(angulo_radianes):  # x=numero (uno,dos)\n",
        "    # aqui uso la función tangente que esta dentro de math\n",
        "    tangente = math.tan(angulo_radianes)  # x=numero (angulo_radianes)\n",
        "    return tangente\n",
        "\n",
        "def calcular_seno(angulo_radianes):  # x=numero (uno,dos)\n",
        "    # aqui uso la función seno que esta dentro de math\n",
        "    seno = math.sin(angulo_radianes)  # x=numero (angulo_radianes)\n",
        "    return seno\n",
        "\n",
        "def calcular_potenciacion(numero):\n",
        "    return numero**2\n",
        "\n",
        "def calcular_raiz_cuadrada(numero):\n",
        "    return math.sqrt(numero)\n",
        "\n",
        "def procesar_y_mostrar_operacion(opcion, numero_uno, numero_dos):\n",
        "    '''input: opcion, numero_uno, numero_dos\n",
        "    process: procesar y mostrar operacion\n",
        "    output: no retorna valor (imprime por pantalla)'''\n",
        "    if opcion == \"0\":\n",
        "        print(\"¡Hasta luego!\")\n",
        "        return  # ya no usamos sys.exit() aquí\n",
        "\n",
        "    if opcion == \"1\" or opcion == \"+\" or opcion == \"Sumar\":\n",
        "        print(\"Vamos a sumar (+) los dos valores ingresados:\")\n",
        "        resultado = calcular_suma(numero_uno, numero_dos)\n",
        "        print(\"La suma es:\", resultado)\n",
        "\n",
        "    if opcion == \"2\" or opcion == \"-\" or opcion == \"Restar\":\n",
        "        print(\"Vamos a restar (-) los dos valores ingresados:\\n\")\n",
        "        resultado = calcular_resta(numero_uno, numero_dos)\n",
        "        print(\"Resultado:\", resultado)\n",
        "\n",
        "    if opcion == \"3\" or opcion == \"*\" or opcion == \"Multiplicar\":\n",
        "        print(\"Vamos a multiplicar (*) los dos valores ingresados:\\n\")\n",
        "        resultado = calcular_multiplicacion(numero_uno, numero_dos)\n",
        "        print(\"Resultado:\", resultado)\n",
        "\n",
        "    if opcion == \"4\" or opcion == \"/\" or opcion == \"Dividir\":\n",
        "        print(\"Vamos a dividir (/) los dos valores ingresados:\\n\")\n",
        "        # VALIDANDO EL DENOMINADOR (debe ser diferente de cero)\n",
        "        if numero_dos != 0:\n",
        "            resultado = calcular_division(numero_uno, numero_dos)\n",
        "            print(\"Resultado:\", resultado)\n",
        "        else:\n",
        "            print(\"¡No es posible dividir entre cero!\")\n",
        "\n",
        "    if opcion == \"5\" or opcion == \"log10\" or opcion == \"logaritmo\":\n",
        "        print(\"Vamos a calcular el logaritmo (log10) de los dos valores ingresados:\\n\")\n",
        "        resultado1 = calcular_logaritmo_base10(numero_uno)\n",
        "        resultado2 = calcular_logaritmo_base10(numero_dos)\n",
        "        print(\"Resultado1:\", resultado1)\n",
        "        print(\"Resultado2:\", resultado2)\n",
        "\n",
        "    if opcion == \"6\" or opcion == \"cos\" or opcion == \"Coseno\":\n",
        "        print(\"Vamos a calcular el coseno (cos) de los dos valores ingresados:\\n\")\n",
        "        resultado1 = calcular_coseno(numero_uno)\n",
        "        resultado2 = calcular_coseno(numero_dos)\n",
        "        print(\"Resultado1:\", resultado1)\n",
        "        print(\"Resultado2:\", resultado2)\n",
        "\n",
        "    if opcion == \"7\" or opcion == \"tan\" or opcion == \"Tangente\":\n",
        "        print(\"Vamos a calcular la tangente (tan) de los dos valores ingresados:\\n\")\n",
        "        resultado1 = calcular_tangente(numero_uno)\n",
        "        resultado2 = calcular_tangente(numero_dos)\n",
        "        print(\"Resultado1:\", resultado1)\n",
        "        print(\"Resultado2:\", resultado2)\n",
        "\n",
        "    if opcion == \"8\" or opcion == \"sen\" or opcion == \"Seno\":\n",
        "        print(\"Vamos a calcular el seno (sen) de los dos valores ingresados:\\n\")\n",
        "        resultado1 = calcular_seno(numero_uno)\n",
        "        resultado2 = calcular_seno(numero_dos)\n",
        "        print(\"Resultado1:\", resultado1)\n",
        "        print(\"Resultado2:\", resultado2)\n",
        "\n",
        "    if opcion == \"9\" or opcion == \"potenciacion\" or opcion == \"potencia\":\n",
        "        print(\"Vamos a calcular la potenciacion (x^y) de los dos valores ingresados:\\n\")\n",
        "        resultado1 = calcular_potenciacion(numero_uno)\n",
        "        resultado2 = calcular_potenciacion(numero_dos)\n",
        "        print(\"Resultado1:\", resultado1)\n",
        "        print(\"Resultado2:\", resultado2)\n",
        "\n",
        "    if opcion == \"10\" or opcion == \"raiz\" or opcion == \"raiz cuadrada\":\n",
        "        print(\"Vamos a calcular la raiz cuadrada de los dos valores ingresados:\\n\")\n",
        "        resultado1 = calcular_raiz_cuadrada(numero_uno)\n",
        "        resultado2 = calcular_raiz_cuadrada(numero_dos)\n",
        "        print(\"Resultado1:\", resultado1)\n",
        "        print(\"Resultado2:\", resultado2)\n",
        "\n",
        "def llamar_funciones():\n",
        "    '''\n",
        "    input: no hay entradas\n",
        "    process: llamar funciones (en orden: mostrar_título, mostrar_menu, ingresar_datos, procesar_y_mostrar_operacion)\n",
        "    output: no hay salidas\n",
        "    '''\n",
        "    mostrar_título()\n",
        "    mostrar_menu()\n",
        "    opcion, numero_uno, numero_dos = ingresar_datos()\n",
        "\n",
        "    if opcion == \"0\":\n",
        "        print(\"¡Hasta luego!\")\n",
        "        return  # salimos de forma limpia\n",
        "\n",
        "    procesar_y_mostrar_operacion(opcion, numero_uno, numero_dos)\n",
        "\n",
        "# EJECUCION DEL PROGRAMA:\n",
        "llamar_funciones()\n"
      ]
    },
    {
      "cell_type": "markdown",
      "metadata": {
        "id": "9g21LKhR2ETa"
      },
      "source": [
        "# **Version final**"
      ]
    },
    {
      "cell_type": "code",
      "execution_count": null,
      "metadata": {
        "colab": {
          "background_save": true,
          "base_uri": "https://localhost:8080/"
        },
        "id": "Azrahxej2GFs",
        "outputId": "54d6201e-e82a-4713-f25b-89fa0cfa0894"
      },
      "outputs": [
        {
          "name": "stdout",
          "output_type": "stream",
          "text": [
            "Ejemplo Calculadora Sencilla (+,-,*,/):\n",
            "\n",
            "MENU:\n",
            "0: Salir\n",
            "1: Sumar (+)\n",
            "2: Restar (-)\n",
            "3: Multiplicar (*)\n",
            "4: Dividir (/)\n",
            "5: Logaritmo (log10)\n",
            "6: Coseno (cos)\n",
            "7: Tangente (tan)\n",
            "8: Seno (sen)\n",
            "9: potenciacion (x^y)\n",
            "10: raiz cuadrada\n",
            "\n"
          ]
        }
      ],
      "source": [
        "\n",
        "# Importando la Libreria/biblioteca de matemáticas de Python\n",
        "import math\n",
        "\n",
        "# DEFINICION DE LAS FUNCIONES:\n",
        "def mostrar_título():\n",
        "    print('Ejemplo Calculadora Sencilla (+,-,*,/):')\n",
        "\n",
        "def mostrar_menu():\n",
        "    print()\n",
        "    print(\"MENU:\")\n",
        "    print(\"0: Salir\")\n",
        "    print(\"1: Sumar (+)\")\n",
        "    print(\"2: Restar (-)\")\n",
        "    print(\"3: Multiplicar (*)\")\n",
        "    print(\"4: Dividir (/)\")\n",
        "    print(\"5: Logaritmo (log10)\")\n",
        "    print(\"6: Coseno (cos)\")\n",
        "    print(\"7: Tangente (tan)\")\n",
        "    print(\"8: Seno (sen)\")\n",
        "    print(\"9: potenciacion (x^y)\")\n",
        "    print(\"10: raiz cuadrada\")\n",
        "    print()\n",
        "\n",
        "def ingresar_datos():\n",
        "    opcion = input(\"Ingrese la opción deseada del menú: \")\n",
        "\n",
        "    # si elige salir, no pido números\n",
        "    if opcion == \"0\":\n",
        "        return opcion, None, None\n",
        "\n",
        "    numero_uno = float(input(\"Ingrese el primer número de la operación: \"))\n",
        "    numero_dos = float(input(\"Ingrese el segundo número de la operación: \"))\n",
        "    return opcion, numero_uno, numero_dos\n",
        "\n",
        "# FUNCIONES DE OPERACIONES\n",
        "def calcular_suma(a, b): return a + b\n",
        "def calcular_resta(a, b): return a - b\n",
        "def calcular_multiplicacion(a, b): return a * b\n",
        "def calcular_division(a, b): return a / b\n",
        "def calcular_logaritmo_base10(x): return math.log10(x)\n",
        "def calcular_coseno(x): return math.cos(x)\n",
        "def calcular_tangente(x): return math.tan(x)\n",
        "def calcular_seno(x): return math.sin(x)\n",
        "def calcular_potenciacion(x): return x**2\n",
        "def calcular_raiz_cuadrada(x): return math.sqrt(x)\n",
        "\n",
        "def procesar_y_mostrar_operacion(opcion, numero_uno, numero_dos):\n",
        "    if opcion == \"1\":\n",
        "        print(\"Resultado:\", calcular_suma(numero_uno, numero_dos))\n",
        "    elif opcion == \"2\":\n",
        "        print(\"Resultado:\", calcular_resta(numero_uno, numero_dos))\n",
        "    elif opcion == \"3\":\n",
        "        print(\"Resultado:\", calcular_multiplicacion(numero_uno, numero_dos))\n",
        "    elif opcion == \"4\":\n",
        "        if numero_dos != 0:\n",
        "            print(\"Resultado:\", calcular_division(numero_uno, numero_dos))\n",
        "        else:\n",
        "            print(\"¡No es posible dividir entre cero!\")\n",
        "    elif opcion == \"5\":\n",
        "        print(\"Resultado1:\", calcular_logaritmo_base10(numero_uno))\n",
        "        print(\"Resultado2:\", calcular_logaritmo_base10(numero_dos))\n",
        "    elif opcion == \"6\":\n",
        "        print(\"Resultado1:\", calcular_coseno(numero_uno))\n",
        "        print(\"Resultado2:\", calcular_coseno(numero_dos))\n",
        "    elif opcion == \"7\":\n",
        "        print(\"Resultado1:\", calcular_tangente(numero_uno))\n",
        "        print(\"Resultado2:\", calcular_tangente(numero_dos))\n",
        "    elif opcion == \"8\":\n",
        "        print(\"Resultado1:\", calcular_seno(numero_uno))\n",
        "        print(\"Resultado2:\", calcular_seno(numero_dos))\n",
        "    elif opcion == \"9\":\n",
        "        print(\"Resultado1:\", calcular_potenciacion(numero_uno))\n",
        "        print(\"Resultado2:\", calcular_potenciacion(numero_dos))\n",
        "    elif opcion == \"10\":\n",
        "        print(\"Resultado1:\", calcular_raiz_cuadrada(numero_uno))\n",
        "        print(\"Resultado2:\", calcular_raiz_cuadrada(numero_dos))\n",
        "    else:\n",
        "        print(\"Opción no válida.\")\n",
        "\n",
        "def llamar_funciones():\n",
        "    mostrar_título()\n",
        "    while True:  # bucle principal\n",
        "        mostrar_menu()\n",
        "        opcion, numero_uno, numero_dos = ingresar_datos()\n",
        "\n",
        "        if opcion == \"0\":\n",
        "            print(\"¡Hasta luego!\")\n",
        "            break  # salimos del bucle y termina el programa\n",
        "\n",
        "        procesar_y_mostrar_operacion(opcion, numero_uno, numero_dos)\n",
        "\n",
        "# EJECUCION DEL PROGRAMA:\n",
        "llamar_funciones()\n"
      ]
    },
    {
      "cell_type": "markdown",
      "metadata": {
        "id": "J0FcR-xV2uXC"
      },
      "source": [
        "**Inventarse su propio ejemplo en Python (Google Colab) de: #   - Lista, tupla, conjunto, diccionario**"
      ]
    },
    {
      "cell_type": "code",
      "execution_count": null,
      "metadata": {
        "colab": {
          "base_uri": "https://localhost:8080/"
        },
        "id": "HdSE3GdB2002",
        "outputId": "490e2319-a04b-487c-ed19-881207505541"
      },
      "outputs": [
        {
          "name": "stdout",
          "output_type": "stream",
          "text": [
            "🍦 Lista de helados: ['chocolate', 'vainilla', 'fresa', 'arequipe']\n",
            "🍦 Lista actualizada de helados: ['chocolate', 'vainilla', 'mango', 'arequipe']\n",
            "🪙 Coordenadas del tesoro: (15.7, -75.2)\n",
            "🎉 Invitados a la fiesta: {'Ana', 'María', 'Pedro', 'Carlos'}\n",
            "🎉 Invitados actualizados: {'Sofía', 'Carlos', 'Pedro', 'Ana', 'María'}\n",
            "📚 Calificaciones: {'Ana': 4.5, 'Carlos': 3.8, 'Pedro': 4.9}\n",
            "📚 Nota de Pedro: 4.9\n",
            "📚 Agenda actualizada de calificaciones: {'Ana': 4.5, 'Carlos': 3.8, 'Pedro': 4.9, 'Sofía': 5.0}\n"
          ]
        }
      ],
      "source": [
        "# --------------------------\n",
        "# LISTA\n",
        "# --------------------------\n",
        "# Una lista es como una \"cajita\" donde puedes guardar cosas en orden y cambiar después.\n",
        "# Ejemplo: mi lista de helados favoritos\n",
        "\n",
        "helados = [\"chocolate\", \"vainilla\", \"fresa\", \"arequipe\"]\n",
        "print(\"🍦 Lista de helados:\", helados)\n",
        "\n",
        "# Puedo cambiar de opinión: ya no quiero fresa, ahora quiero mango\n",
        "helados[2] = \"mango\"\n",
        "print(\"🍦 Lista actualizada de helados:\", helados)\n",
        "\n",
        "\n",
        "# --------------------------\n",
        "# TUPLA\n",
        "# --------------------------\n",
        "# Una tupla es como un \"recuerdo grabado en piedra\": no se puede modificar.\n",
        "# Ejemplo: coordenadas de un tesoro escondido\n",
        "\n",
        "Coordinates_Tesoro = (15.7, -75.2)\n",
        "print(\"🪙 Coordenadas del tesoro:\", coordenadas_tesoro)\n",
        "\n",
        "# coordenadas_tesoro[0] = 20.0   # ❌ Esto daría error, porque no se puede cambiar\n",
        "\n",
        "\n",
        "# --------------------------\n",
        "# CONJUNTO\n",
        "# --------------------------\n",
        "# Un conjunto es como un \"bolsillo mágico\": no guarda cosas repetidas.\n",
        "# Ejemplo: invitados confirmados a una fiesta\n",
        "\n",
        "invitados = {\"Ana\", \"Carlos\", \"Pedro\", \"Ana\", \"María\"}\n",
        "print(\"🎉 Invitados a la fiesta:\", invitados)\n",
        "# Ana solo aparece una vez, aunque la repita\n",
        "\n",
        "# Agrego un nuevo invitado\n",
        "invitados.add(\"Sofía\")\n",
        "print(\"🎉 Invitados actualizados:\", invitados)\n",
        "\n",
        "\n",
        "# --------------------------\n",
        "# DICCIONARIO\n",
        "# --------------------------\n",
        "# Un diccionario es como una \"agenda mágica\": cada cosa tiene una llave y un valor.\n",
        "# Ejemplo: calificaciones de estudiantes\n",
        "\n",
        "calificaciones = {\n",
        "    \"Ana\": 4.5,\n",
        "    \"Carlos\": 3.8,\n",
        "    \"Pedro\": 4.9\n",
        "}\n",
        "print(\"📚 Calificaciones:\", calificaciones)\n",
        "\n",
        "# Consulto la nota de Pedro\n",
        "print(\"📚 Nota de Pedro:\", calificaciones[\"Pedro\"])\n",
        "\n",
        "# Agrego la nota de Sofía\n",
        "calificaciones[\"Sofía\"] = 5.0\n",
        "print(\"📚 Agenda actualizada de calificaciones:\", calificaciones)\n"
      ]
    },
    {
      "cell_type": "markdown",
      "metadata": {
        "id": "xx3xpw3g3ORC"
      },
      "source": [
        "# **(clase/casa) Recorrer cada estructura con un cliclo for**\n",
        "(CONSULTA: Ayuda: https://www.w3schools.com/)"
      ]
    },
    {
      "cell_type": "code",
      "execution_count": null,
      "metadata": {
        "colab": {
          "base_uri": "https://localhost:8080/"
        },
        "id": "MmtF4vlx3N7I",
        "outputId": "a58f256d-ccdb-46f3-db88-b3668389e5cf"
      },
      "outputs": [
        {
          "name": "stdout",
          "output_type": "stream",
          "text": [
            "🍦 Lista de helados: ['chocolate', 'vainilla', 'fresa', 'arequipe']\n",
            "Me gusta el helado de:  chocolate\n",
            "Me gusta el helado de:  vainilla\n",
            "Me gusta el helado de:  fresa\n",
            "Me gusta el helado de:  arequipe\n"
          ]
        }
      ],
      "source": [
        "# Ejemplo: mi lista de helados favoritos\n",
        "\n",
        "helados = [\"chocolate\", \"vainilla\", \"fresa\", \"arequipe\"]\n",
        "print(\"🍦 Lista de helados:\", helados)\n",
        "\n",
        "#para elemento en elementos(rango):\n",
        "   #haga:\n",
        "   #imprima\n",
        "for helado in helados:\n",
        "  print(\"Me gusta el helado de: \", helado)\n"
      ]
    },
    {
      "cell_type": "code",
      "execution_count": null,
      "metadata": {
        "colab": {
          "base_uri": "https://localhost:8080/"
        },
        "id": "_kWujXny4Ote",
        "outputId": "620a418e-7209-4455-dd8e-9fa6a9377e84"
      },
      "outputs": [
        {
          "name": "stdout",
          "output_type": "stream",
          "text": [
            "🪙 Coordenadas del tesoro: (15.7, -75.2)\n",
            "La coordenada es:  15.7\n",
            "La coordenada es:  -75.2\n"
          ]
        }
      ],
      "source": [
        "# Ejemplo Tupla: coordenadas de un tesoro escondido\n",
        "\n",
        "Coordinates_Tesoro = (15.7, -75.2)\n",
        "print(\"🪙 Coordenadas del tesoro:\", coordenadas_tesoro)\n",
        "\n",
        "for i in coordenadas_tesoro:\n",
        "  print(\"La coordenada es: \", i)"
      ]
    },
    {
      "cell_type": "code",
      "execution_count": null,
      "metadata": {
        "colab": {
          "base_uri": "https://localhost:8080/"
        },
        "id": "ytucyf-q5S_a",
        "outputId": "2a4bb19d-5ba9-4bf5-b44f-5fc259134e9b"
      },
      "outputs": [
        {
          "name": "stdout",
          "output_type": "stream",
          "text": [
            "🎉 Invitados a la fiesta: {'María', 'Pedro', 'Carlos', 'Ana'}\n",
            "El invitado es:  María\n",
            "El invitado es:  Pedro\n",
            "El invitado es:  Carlos\n",
            "El invitado es:  Ana\n"
          ]
        }
      ],
      "source": [
        "# Ejemplo Conjunto: invitados confirmados a una fiesta\n",
        "\n",
        "invitados = {\"Ana\", \"Carlos\", \"Pedro\", \"Ana\", \"María\"}\n",
        "print(\"🎉 Invitados a la fiesta:\", invitados)\n",
        "\n",
        "for invitado in invitados:\n",
        "  print(\"El invitado es: \", invitado)"
      ]
    },
    {
      "cell_type": "code",
      "execution_count": null,
      "metadata": {
        "colab": {
          "base_uri": "https://localhost:8080/"
        },
        "id": "NplvggIT5lDQ",
        "outputId": "d2bfbb78-db20-43a7-9ec8-291027c34a02"
      },
      "outputs": [
        {
          "name": "stdout",
          "output_type": "stream",
          "text": [
            "📚 Calificaciones: {'Ana': 4.5, 'Carlos': 3.8, 'Pedro': 4.9}\n",
            "La nota de Ana es 4.5\n",
            "La nota de Carlos es 3.8\n",
            "La nota de Pedro es 4.9\n"
          ]
        }
      ],
      "source": [
        "# Ejemplo Conjunto: calificaciones de estudiantes\n",
        "\n",
        "calificaciones = {\n",
        "    \"Ana\": 4.5,\n",
        "    \"Carlos\": 3.8,\n",
        "    \"Pedro\": 4.9\n",
        "}\n",
        "print(\"📚 Calificaciones:\", calificaciones)\n",
        "\n",
        "for nombre, nota in calificaciones.items():\n",
        "  print(\"La nota de\", nombre, \"es\", nota)"
      ]
    },
    {
      "cell_type": "markdown",
      "metadata": {
        "id": "vXEOmt1z4e4O"
      },
      "source": [
        ") (clase y casa) Inventarse un programa que use todo lo que se ha visto hasta ahora:\n",
        "  ejemplo: tetris, triqui, ahorcado, tienda, notas de la universidad, datos de clientes, etc...\n",
        "#"
      ]
    },
    {
      "cell_type": "markdown",
      "metadata": {
        "id": "dp8M2mPBGn-n"
      },
      "source": [
        "match"
      ]
    },
    {
      "cell_type": "code",
      "execution_count": null,
      "metadata": {
        "id": "qhJjTe0DGpha"
      },
      "outputs": [],
      "source": [
        "opcion = int(input(\"Ingrese la opción del menu:\"))\n",
        "match opcion:\n",
        "  case 1:\n",
        "    print(\"Sumar\")\n",
        "  case 2:\n",
        "    print(\"Restar\")\n",
        "  case 3:\n",
        "    print(\"Wednesday\")\n",
        "  case 4:\n",
        "    print(\"Thursday\")\n",
        "  case 5:\n",
        "    print(\"Friday\")\n",
        "  case 6:\n",
        "    print(\"Saturday\")\n",
        "  case 7:\n",
        "    print(\"Sunday\")\n",
        "  case 8:\n",
        "    print(\"Sunday\")\n",
        "  case 9:\n",
        "    print(\"Seno\")\n",
        "  case 10:\n",
        "    print(\"Tangente\")\n",
        "  case 11:\n",
        "    print(\"Salir\")"
      ]
    },
    {
      "cell_type": "markdown",
      "metadata": {
        "id": "TfLtnmTbJbEz"
      },
      "source": [
        "# Actividad:\n",
        "Usar match-case con la última versión de su calculadora.\n",
        "Ayuda: usarla dentro de la función de validadción llamada: \"procesar_y_mostrar_operación()\"\n",
        "\n",
        "Incluir un mensaje para opción válida (se maneja un caso por defecto en el match-case. Buscar en https://www.w3schools.com/python/python_match.asp)"
      ]
    },
    {
      "cell_type": "code",
      "execution_count": null,
      "metadata": {
        "id": "Xk93TdCKLjoj"
      },
      "outputs": [],
      "source": [
        "var = 0\n",
        "while var < 10:\n",
        "  print(var)\n",
        "  #var += 1\n",
        "  var = var + 1\n",
        "  #var = var - 1\n",
        "  #var -= 1"
      ]
    }
  ],
  "metadata": {
    "colab": {
      "provenance": []
    },
    "kernelspec": {
      "display_name": "Python 3",
      "name": "python3"
    },
    "language_info": {
      "name": "python"
    }
  },
  "nbformat": 4,
  "nbformat_minor": 0
}