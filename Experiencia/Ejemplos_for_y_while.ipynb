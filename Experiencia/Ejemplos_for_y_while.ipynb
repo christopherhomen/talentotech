{
  "nbformat": 4,
  "nbformat_minor": 0,
  "metadata": {
    "colab": {
      "provenance": []
    },
    "kernelspec": {
      "name": "python3",
      "display_name": "Python 3"
    },
    "language_info": {
      "name": "python"
    }
  },
  "cells": [
    {
      "cell_type": "code",
      "execution_count": null,
      "metadata": {
        "id": "0kVX5jQWRXFb"
      },
      "outputs": [],
      "source": [
        "for oveja in range(1, 6):\n",
        "    print(f\"Zzz... oveja {oveja}\")\n"
      ]
    },
    {
      "cell_type": "code",
      "source": [
        "pizzas = [\"pepperoni\", \"hawaiana\", \"mexicana\", \"4 quesos\"]\n",
        "for pizza in pizzas:\n",
        "    print(f\"Me comería una pizza de {pizza} ahora mismo 😋\")\n"
      ],
      "metadata": {
        "id": "rS3nuPqpRaCK"
      },
      "execution_count": null,
      "outputs": []
    },
    {
      "cell_type": "code",
      "source": [
        "palabra = \"Abracadabra\"\n",
        "for letra in palabra:\n",
        "    print(letra, end=\"✨ \")\n"
      ],
      "metadata": {
        "id": "S_GiG0-zRb7b"
      },
      "execution_count": null,
      "outputs": []
    },
    {
      "cell_type": "code",
      "source": [
        "#Tabla de multiplicar del 7\n",
        "for i in range(1, 11):\n",
        "    print(f\"7 x {i} = {7 * i}\")\n"
      ],
      "metadata": {
        "colab": {
          "base_uri": "https://localhost:8080/"
        },
        "id": "2DV08YPNReX4",
        "outputId": "3ba01bae-3a2d-4e37-b6f6-750b97067d24"
      },
      "execution_count": null,
      "outputs": [
        {
          "output_type": "stream",
          "name": "stdout",
          "text": [
            "7 x 1 = 7\n",
            "7 x 2 = 14\n",
            "7 x 3 = 21\n",
            "7 x 4 = 28\n",
            "7 x 5 = 35\n",
            "7 x 6 = 42\n",
            "7 x 7 = 49\n",
            "7 x 8 = 56\n",
            "7 x 9 = 63\n",
            "7 x 10 = 70\n"
          ]
        }
      ]
    },
    {
      "cell_type": "markdown",
      "source": [
        "# **WHILE**"
      ],
      "metadata": {
        "id": "qaeC10mQRgkl"
      }
    },
    {
      "cell_type": "code",
      "source": [
        "#Contando chistes malos 🤡\n",
        "contador = 1\n",
        "while contador <= 3:\n",
        "    print(f\"Chiste {contador}: ¿Sabes cuál es el café más peligroso? El ex-preso ☕😆\")\n",
        "    contador += 1\n"
      ],
      "metadata": {
        "colab": {
          "base_uri": "https://localhost:8080/"
        },
        "id": "5DXE1WzVRi-c",
        "outputId": "888e2ad0-fa31-438a-ba07-1937c65f1a18"
      },
      "execution_count": null,
      "outputs": [
        {
          "output_type": "stream",
          "name": "stdout",
          "text": [
            "Chiste 1: ¿Sabes cuál es el café más peligroso? El ex-preso ☕😆\n",
            "Chiste 2: ¿Sabes cuál es el café más peligroso? El ex-preso ☕😆\n",
            "Chiste 3: ¿Sabes cuál es el café más peligroso? El ex-preso ☕😆\n"
          ]
        }
      ]
    },
    {
      "cell_type": "code",
      "source": [
        "#Un globo que se infla 🎈\n",
        "tamano = 1\n",
        "while tamano <= 5:\n",
        "    print(\"🎈\" * tamano)\n",
        "    tamano += 1"
      ],
      "metadata": {
        "id": "1FBw1QTgSoNu"
      },
      "execution_count": null,
      "outputs": []
    },
    {
      "cell_type": "code",
      "source": [
        "#Robot saludando hasta cansarse 🤖\n",
        "energia = 3\n",
        "while energia > 0:\n",
        "    print(\"Hola humano 👋\")\n",
        "    energia -= 1\n",
        "print(\"El robot se quedó sin batería... 🔋❌\")"
      ],
      "metadata": {
        "id": "5MXvaIibSvwx"
      },
      "execution_count": null,
      "outputs": []
    },
    {
      "cell_type": "code",
      "source": [
        "#4. Tirando un dado hasta que salga 6\n",
        "import random\n",
        "\n",
        "dado = 0\n",
        "while dado != 6:\n",
        "    dado = random.randint(1, 6)\n",
        "    print(f\"Salió {dado}\")\n",
        "print(\"¡Al fin salió un 6! 🎉\")\n"
      ],
      "metadata": {
        "colab": {
          "base_uri": "https://localhost:8080/"
        },
        "id": "KQrBfriGSyYg",
        "outputId": "66b69d50-7536-49fb-dcc8-5b03129368ef"
      },
      "execution_count": null,
      "outputs": [
        {
          "output_type": "stream",
          "name": "stdout",
          "text": [
            "Salió 4\n",
            "Salió 5\n",
            "Salió 6\n",
            "¡Al fin salió un 6! 🎉\n"
          ]
        }
      ]
    },
    {
      "cell_type": "code",
      "source": [],
      "metadata": {
        "id": "WkPLKs4IS6tP"
      },
      "execution_count": null,
      "outputs": []
    }
  ]
}