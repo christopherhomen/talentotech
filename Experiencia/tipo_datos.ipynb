#Lista

lista_hamburguesa = ["Pan", "Queso", "Jamon", "Tomate", "Cebolla", "Carne", "Papas"]
lista_hot_dog = ["Pan", "Salchicha", "Papa Chips", "Huevo", "Queso"]
print("\nListas: \n")
print(lista_hamburguesa)
print(lista_hot_dog)

#Tupla
tupla_cubiertos = ("tenedor", "cuchara", "cuchillo")
tupla_vajilla = ("vaso", "plato_llano", "plato_hondo")
print("\nTuplas: \n")
print(tupla_cubiertos)
print(tupla_vajilla)

#Conjunto
conjunto_figuras = {"circulo", "cuadrado", "rectangulo", "triangulo"}
conjunto_animales_magicos = {"oso_marino", "rinoceronte_marino", "dinosaurio", "elefante_mitico_ancestral"}
print("\nConjuntos\n")
print(conjunto_figuras)
print(conjunto_animales_magicos)

#Diccionario

diccionario_sarcastico = {
    "lunes": "Venganza del calendario.",
    "wifi": "Miembro favorito de la familia.",
    "adulto": "Niño con deudas."
}

diccionario_imaginario = {
    "cafesio": "Humano sin café. Peligroso.",
    "teclastérico": "Teclado con vida propia.",
    "memeficar": "Hacer meme de todo."
}
print("\nDiccionario\n")
print(diccionario_sarcastico)
print(diccionario_imaginario)

#Operaciones con conjuntos:
union = conjunto_figuras | conjunto_animales_magicos
print("Unión:", union)

interseccion = conjunto_figuras & conjunto_animales_magicos
print("Intersección:", interseccion)

diferencia = conjunto_figuras - conjunto_animales_magicos
print("Diferencia:", diferencia)

diferencia_simetrica = conjunto_figuras ^ conjunto_animales_magicos
print("Diferencia simétrica:", diferencia_simetrica)

universo = conjunto_figuras | conjunto_animales_magicos  # suponiendo que es el universo

complemento_figuras = universo - conjunto_figuras
print("Complemento de figuras:", complemento_figuras)
