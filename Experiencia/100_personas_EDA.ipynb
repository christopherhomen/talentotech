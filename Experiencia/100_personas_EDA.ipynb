{
  "nbformat": 4,
  "nbformat_minor": 0,
  "metadata": {
    "colab": {
      "provenance": [],
      "authorship_tag": "ABX9TyMdqPXj3snXaSO7UieGxFyX",
      "include_colab_link": true
    },
    "kernelspec": {
      "name": "python3",
      "display_name": "Python 3"
    },
    "language_info": {
      "name": "python"
    }
  },
  "cells": [
    {
      "cell_type": "markdown",
      "metadata": {
        "id": "view-in-github",
        "colab_type": "text"
      },
      "source": [
        "<a href=\"https://colab.research.google.com/github/christopherhomen/talentotech/blob/main/Experiencia/100_personas_EDA.ipynb\" target=\"_parent\"><img src=\"https://colab.research.google.com/assets/colab-badge.svg\" alt=\"Open In Colab\"/></a>"
      ]
    },
    {
      "cell_type": "code",
      "execution_count": 1,
      "metadata": {
        "colab": {
          "base_uri": "https://localhost:8080/",
          "height": 475
        },
        "id": "I8IgJU4Z5kh8",
        "outputId": "bd0a4be8-d19d-4b10-8635-8be299bd61dd"
      },
      "outputs": [
        {
          "output_type": "stream",
          "name": "stdout",
          "text": [
            "Length of lista_nombres: 100\n",
            "Length of lista_pesos: 100\n",
            "Length of lista_alturas: 100\n"
          ]
        },
        {
          "output_type": "execute_result",
          "data": {
            "text/plain": [
              "         Nombre  Peso  Altura\n",
              "0     Alexander    69    1.78\n",
              "1     Alejandra    57    1.60\n",
              "2         Dario    64    1.64\n",
              "3        Wilson    80    1.71\n",
              "4         Sofia    55    1.55\n",
              "..          ...   ...     ...\n",
              "95  Torombolito    61    1.62\n",
              "96      Risotín    69    1.79\n",
              "97       Fulano    73    1.72\n",
              "98      Mengano    70    1.65\n",
              "99       Zutano    65    1.70\n",
              "\n",
              "[100 rows x 3 columns]"
            ],
            "text/html": [
              "\n",
              "  <div id=\"df-9d3aa3a6-0dd1-48b1-a1fd-3560a6f88499\" class=\"colab-df-container\">\n",
              "    <div>\n",
              "<style scoped>\n",
              "    .dataframe tbody tr th:only-of-type {\n",
              "        vertical-align: middle;\n",
              "    }\n",
              "\n",
              "    .dataframe tbody tr th {\n",
              "        vertical-align: top;\n",
              "    }\n",
              "\n",
              "    .dataframe thead th {\n",
              "        text-align: right;\n",
              "    }\n",
              "</style>\n",
              "<table border=\"1\" class=\"dataframe\">\n",
              "  <thead>\n",
              "    <tr style=\"text-align: right;\">\n",
              "      <th></th>\n",
              "      <th>Nombre</th>\n",
              "      <th>Peso</th>\n",
              "      <th>Altura</th>\n",
              "    </tr>\n",
              "  </thead>\n",
              "  <tbody>\n",
              "    <tr>\n",
              "      <th>0</th>\n",
              "      <td>Alexander</td>\n",
              "      <td>69</td>\n",
              "      <td>1.78</td>\n",
              "    </tr>\n",
              "    <tr>\n",
              "      <th>1</th>\n",
              "      <td>Alejandra</td>\n",
              "      <td>57</td>\n",
              "      <td>1.60</td>\n",
              "    </tr>\n",
              "    <tr>\n",
              "      <th>2</th>\n",
              "      <td>Dario</td>\n",
              "      <td>64</td>\n",
              "      <td>1.64</td>\n",
              "    </tr>\n",
              "    <tr>\n",
              "      <th>3</th>\n",
              "      <td>Wilson</td>\n",
              "      <td>80</td>\n",
              "      <td>1.71</td>\n",
              "    </tr>\n",
              "    <tr>\n",
              "      <th>4</th>\n",
              "      <td>Sofia</td>\n",
              "      <td>55</td>\n",
              "      <td>1.55</td>\n",
              "    </tr>\n",
              "    <tr>\n",
              "      <th>...</th>\n",
              "      <td>...</td>\n",
              "      <td>...</td>\n",
              "      <td>...</td>\n",
              "    </tr>\n",
              "    <tr>\n",
              "      <th>95</th>\n",
              "      <td>Torombolito</td>\n",
              "      <td>61</td>\n",
              "      <td>1.62</td>\n",
              "    </tr>\n",
              "    <tr>\n",
              "      <th>96</th>\n",
              "      <td>Risotín</td>\n",
              "      <td>69</td>\n",
              "      <td>1.79</td>\n",
              "    </tr>\n",
              "    <tr>\n",
              "      <th>97</th>\n",
              "      <td>Fulano</td>\n",
              "      <td>73</td>\n",
              "      <td>1.72</td>\n",
              "    </tr>\n",
              "    <tr>\n",
              "      <th>98</th>\n",
              "      <td>Mengano</td>\n",
              "      <td>70</td>\n",
              "      <td>1.65</td>\n",
              "    </tr>\n",
              "    <tr>\n",
              "      <th>99</th>\n",
              "      <td>Zutano</td>\n",
              "      <td>65</td>\n",
              "      <td>1.70</td>\n",
              "    </tr>\n",
              "  </tbody>\n",
              "</table>\n",
              "<p>100 rows × 3 columns</p>\n",
              "</div>\n",
              "    <div class=\"colab-df-buttons\">\n",
              "\n",
              "  <div class=\"colab-df-container\">\n",
              "    <button class=\"colab-df-convert\" onclick=\"convertToInteractive('df-9d3aa3a6-0dd1-48b1-a1fd-3560a6f88499')\"\n",
              "            title=\"Convert this dataframe to an interactive table.\"\n",
              "            style=\"display:none;\">\n",
              "\n",
              "  <svg xmlns=\"http://www.w3.org/2000/svg\" height=\"24px\" viewBox=\"0 -960 960 960\">\n",
              "    <path d=\"M120-120v-720h720v720H120Zm60-500h600v-160H180v160Zm220 220h160v-160H400v160Zm0 220h160v-160H400v160ZM180-400h160v-160H180v160Zm440 0h160v-160H620v160ZM180-180h160v-160H180v160Zm440 0h160v-160H620v160Z\"/>\n",
              "  </svg>\n",
              "    </button>\n",
              "\n",
              "  <style>\n",
              "    .colab-df-container {\n",
              "      display:flex;\n",
              "      gap: 12px;\n",
              "    }\n",
              "\n",
              "    .colab-df-convert {\n",
              "      background-color: #E8F0FE;\n",
              "      border: none;\n",
              "      border-radius: 50%;\n",
              "      cursor: pointer;\n",
              "      display: none;\n",
              "      fill: #1967D2;\n",
              "      height: 32px;\n",
              "      padding: 0 0 0 0;\n",
              "      width: 32px;\n",
              "    }\n",
              "\n",
              "    .colab-df-convert:hover {\n",
              "      background-color: #E2EBFA;\n",
              "      box-shadow: 0px 1px 2px rgba(60, 64, 67, 0.3), 0px 1px 3px 1px rgba(60, 64, 67, 0.15);\n",
              "      fill: #174EA6;\n",
              "    }\n",
              "\n",
              "    .colab-df-buttons div {\n",
              "      margin-bottom: 4px;\n",
              "    }\n",
              "\n",
              "    [theme=dark] .colab-df-convert {\n",
              "      background-color: #3B4455;\n",
              "      fill: #D2E3FC;\n",
              "    }\n",
              "\n",
              "    [theme=dark] .colab-df-convert:hover {\n",
              "      background-color: #434B5C;\n",
              "      box-shadow: 0px 1px 3px 1px rgba(0, 0, 0, 0.15);\n",
              "      filter: drop-shadow(0px 1px 2px rgba(0, 0, 0, 0.3));\n",
              "      fill: #FFFFFF;\n",
              "    }\n",
              "  </style>\n",
              "\n",
              "    <script>\n",
              "      const buttonEl =\n",
              "        document.querySelector('#df-9d3aa3a6-0dd1-48b1-a1fd-3560a6f88499 button.colab-df-convert');\n",
              "      buttonEl.style.display =\n",
              "        google.colab.kernel.accessAllowed ? 'block' : 'none';\n",
              "\n",
              "      async function convertToInteractive(key) {\n",
              "        const element = document.querySelector('#df-9d3aa3a6-0dd1-48b1-a1fd-3560a6f88499');\n",
              "        const dataTable =\n",
              "          await google.colab.kernel.invokeFunction('convertToInteractive',\n",
              "                                                    [key], {});\n",
              "        if (!dataTable) return;\n",
              "\n",
              "        const docLinkHtml = 'Like what you see? Visit the ' +\n",
              "          '<a target=\"_blank\" href=https://colab.research.google.com/notebooks/data_table.ipynb>data table notebook</a>'\n",
              "          + ' to learn more about interactive tables.';\n",
              "        element.innerHTML = '';\n",
              "        dataTable['output_type'] = 'display_data';\n",
              "        await google.colab.output.renderOutput(dataTable, element);\n",
              "        const docLink = document.createElement('div');\n",
              "        docLink.innerHTML = docLinkHtml;\n",
              "        element.appendChild(docLink);\n",
              "      }\n",
              "    </script>\n",
              "  </div>\n",
              "\n",
              "\n",
              "    <div id=\"df-34883e23-c1c0-4d52-ac08-b49b190aad6c\">\n",
              "      <button class=\"colab-df-quickchart\" onclick=\"quickchart('df-34883e23-c1c0-4d52-ac08-b49b190aad6c')\"\n",
              "                title=\"Suggest charts\"\n",
              "                style=\"display:none;\">\n",
              "\n",
              "<svg xmlns=\"http://www.w3.org/2000/svg\" height=\"24px\"viewBox=\"0 0 24 24\"\n",
              "     width=\"24px\">\n",
              "    <g>\n",
              "        <path d=\"M19 3H5c-1.1 0-2 .9-2 2v14c0 1.1.9 2 2 2h14c1.1 0 2-.9 2-2V5c0-1.1-.9-2-2-2zM9 17H7v-7h2v7zm4 0h-2V7h2v10zm4 0h-2v-4h2v4z\"/>\n",
              "    </g>\n",
              "</svg>\n",
              "      </button>\n",
              "\n",
              "<style>\n",
              "  .colab-df-quickchart {\n",
              "      --bg-color: #E8F0FE;\n",
              "      --fill-color: #1967D2;\n",
              "      --hover-bg-color: #E2EBFA;\n",
              "      --hover-fill-color: #174EA6;\n",
              "      --disabled-fill-color: #AAA;\n",
              "      --disabled-bg-color: #DDD;\n",
              "  }\n",
              "\n",
              "  [theme=dark] .colab-df-quickchart {\n",
              "      --bg-color: #3B4455;\n",
              "      --fill-color: #D2E3FC;\n",
              "      --hover-bg-color: #434B5C;\n",
              "      --hover-fill-color: #FFFFFF;\n",
              "      --disabled-bg-color: #3B4455;\n",
              "      --disabled-fill-color: #666;\n",
              "  }\n",
              "\n",
              "  .colab-df-quickchart {\n",
              "    background-color: var(--bg-color);\n",
              "    border: none;\n",
              "    border-radius: 50%;\n",
              "    cursor: pointer;\n",
              "    display: none;\n",
              "    fill: var(--fill-color);\n",
              "    height: 32px;\n",
              "    padding: 0;\n",
              "    width: 32px;\n",
              "  }\n",
              "\n",
              "  .colab-df-quickchart:hover {\n",
              "    background-color: var(--hover-bg-color);\n",
              "    box-shadow: 0 1px 2px rgba(60, 64, 67, 0.3), 0 1px 3px 1px rgba(60, 64, 67, 0.15);\n",
              "    fill: var(--button-hover-fill-color);\n",
              "  }\n",
              "\n",
              "  .colab-df-quickchart-complete:disabled,\n",
              "  .colab-df-quickchart-complete:disabled:hover {\n",
              "    background-color: var(--disabled-bg-color);\n",
              "    fill: var(--disabled-fill-color);\n",
              "    box-shadow: none;\n",
              "  }\n",
              "\n",
              "  .colab-df-spinner {\n",
              "    border: 2px solid var(--fill-color);\n",
              "    border-color: transparent;\n",
              "    border-bottom-color: var(--fill-color);\n",
              "    animation:\n",
              "      spin 1s steps(1) infinite;\n",
              "  }\n",
              "\n",
              "  @keyframes spin {\n",
              "    0% {\n",
              "      border-color: transparent;\n",
              "      border-bottom-color: var(--fill-color);\n",
              "      border-left-color: var(--fill-color);\n",
              "    }\n",
              "    20% {\n",
              "      border-color: transparent;\n",
              "      border-left-color: var(--fill-color);\n",
              "      border-top-color: var(--fill-color);\n",
              "    }\n",
              "    30% {\n",
              "      border-color: transparent;\n",
              "      border-left-color: var(--fill-color);\n",
              "      border-top-color: var(--fill-color);\n",
              "      border-right-color: var(--fill-color);\n",
              "    }\n",
              "    40% {\n",
              "      border-color: transparent;\n",
              "      border-right-color: var(--fill-color);\n",
              "      border-top-color: var(--fill-color);\n",
              "    }\n",
              "    60% {\n",
              "      border-color: transparent;\n",
              "      border-right-color: var(--fill-color);\n",
              "    }\n",
              "    80% {\n",
              "      border-color: transparent;\n",
              "      border-right-color: var(--fill-color);\n",
              "      border-bottom-color: var(--fill-color);\n",
              "    }\n",
              "    90% {\n",
              "      border-color: transparent;\n",
              "      border-bottom-color: var(--fill-color);\n",
              "    }\n",
              "  }\n",
              "</style>\n",
              "\n",
              "      <script>\n",
              "        async function quickchart(key) {\n",
              "          const quickchartButtonEl =\n",
              "            document.querySelector('#' + key + ' button');\n",
              "          quickchartButtonEl.disabled = true;  // To prevent multiple clicks.\n",
              "          quickchartButtonEl.classList.add('colab-df-spinner');\n",
              "          try {\n",
              "            const charts = await google.colab.kernel.invokeFunction(\n",
              "                'suggestCharts', [key], {});\n",
              "          } catch (error) {\n",
              "            console.error('Error during call to suggestCharts:', error);\n",
              "          }\n",
              "          quickchartButtonEl.classList.remove('colab-df-spinner');\n",
              "          quickchartButtonEl.classList.add('colab-df-quickchart-complete');\n",
              "        }\n",
              "        (() => {\n",
              "          let quickchartButtonEl =\n",
              "            document.querySelector('#df-34883e23-c1c0-4d52-ac08-b49b190aad6c button');\n",
              "          quickchartButtonEl.style.display =\n",
              "            google.colab.kernel.accessAllowed ? 'block' : 'none';\n",
              "        })();\n",
              "      </script>\n",
              "    </div>\n",
              "\n",
              "  <div id=\"id_7be55731-4a93-4a48-a61d-65e36f777901\">\n",
              "    <style>\n",
              "      .colab-df-generate {\n",
              "        background-color: #E8F0FE;\n",
              "        border: none;\n",
              "        border-radius: 50%;\n",
              "        cursor: pointer;\n",
              "        display: none;\n",
              "        fill: #1967D2;\n",
              "        height: 32px;\n",
              "        padding: 0 0 0 0;\n",
              "        width: 32px;\n",
              "      }\n",
              "\n",
              "      .colab-df-generate:hover {\n",
              "        background-color: #E2EBFA;\n",
              "        box-shadow: 0px 1px 2px rgba(60, 64, 67, 0.3), 0px 1px 3px 1px rgba(60, 64, 67, 0.15);\n",
              "        fill: #174EA6;\n",
              "      }\n",
              "\n",
              "      [theme=dark] .colab-df-generate {\n",
              "        background-color: #3B4455;\n",
              "        fill: #D2E3FC;\n",
              "      }\n",
              "\n",
              "      [theme=dark] .colab-df-generate:hover {\n",
              "        background-color: #434B5C;\n",
              "        box-shadow: 0px 1px 3px 1px rgba(0, 0, 0, 0.15);\n",
              "        filter: drop-shadow(0px 1px 2px rgba(0, 0, 0, 0.3));\n",
              "        fill: #FFFFFF;\n",
              "      }\n",
              "    </style>\n",
              "    <button class=\"colab-df-generate\" onclick=\"generateWithVariable('df_2')\"\n",
              "            title=\"Generate code using this dataframe.\"\n",
              "            style=\"display:none;\">\n",
              "\n",
              "  <svg xmlns=\"http://www.w3.org/2000/svg\" height=\"24px\"viewBox=\"0 0 24 24\"\n",
              "       width=\"24px\">\n",
              "    <path d=\"M7,19H8.4L18.45,9,17,7.55,7,17.6ZM5,21V16.75L18.45,3.32a2,2,0,0,1,2.83,0l1.4,1.43a1.91,1.91,0,0,1,.58,1.4,1.91,1.91,0,0,1-.58,1.4L9.25,21ZM18.45,9,17,7.55Zm-12,3A5.31,5.31,0,0,0,4.9,8.1,5.31,5.31,0,0,0,1,6.5,5.31,5.31,0,0,0,4.9,4.9,5.31,5.31,0,0,0,6.5,1,5.31,5.31,0,0,0,8.1,4.9,5.31,5.31,0,0,0,12,6.5,5.46,5.46,0,0,0,6.5,12Z\"/>\n",
              "  </svg>\n",
              "    </button>\n",
              "    <script>\n",
              "      (() => {\n",
              "      const buttonEl =\n",
              "        document.querySelector('#id_7be55731-4a93-4a48-a61d-65e36f777901 button.colab-df-generate');\n",
              "      buttonEl.style.display =\n",
              "        google.colab.kernel.accessAllowed ? 'block' : 'none';\n",
              "\n",
              "      buttonEl.onclick = () => {\n",
              "        google.colab.notebook.generateWithVariable('df_2');\n",
              "      }\n",
              "      })();\n",
              "    </script>\n",
              "  </div>\n",
              "\n",
              "    </div>\n",
              "  </div>\n"
            ],
            "application/vnd.google.colaboratory.intrinsic+json": {
              "type": "dataframe",
              "variable_name": "df_2",
              "summary": "{\n  \"name\": \"df_2\",\n  \"rows\": 100,\n  \"fields\": [\n    {\n      \"column\": \"Nombre\",\n      \"properties\": {\n        \"dtype\": \"string\",\n        \"num_unique_values\": 100,\n        \"samples\": [\n          \"Procopio\",\n          \"Pancracia\",\n          \"Candelaria\"\n        ],\n        \"semantic_type\": \"\",\n        \"description\": \"\"\n      }\n    },\n    {\n      \"column\": \"Peso\",\n      \"properties\": {\n        \"dtype\": \"number\",\n        \"std\": 11,\n        \"min\": 53,\n        \"max\": 120,\n        \"num_unique_values\": 33,\n        \"samples\": [\n          120,\n          59,\n          76\n        ],\n        \"semantic_type\": \"\",\n        \"description\": \"\"\n      }\n    },\n    {\n      \"column\": \"Altura\",\n      \"properties\": {\n        \"dtype\": \"number\",\n        \"std\": 0.096847062605706,\n        \"min\": 1.5,\n        \"max\": 2.0,\n        \"num_unique_values\": 33,\n        \"samples\": [\n          1.67,\n          1.63,\n          1.56\n        ],\n        \"semantic_type\": \"\",\n        \"description\": \"\"\n      }\n    }\n  ]\n}"
            }
          },
          "metadata": {},
          "execution_count": 1
        }
      ],
      "source": [
        "import pandas as pd\n",
        "\n",
        "lista_nombres = [\n",
        "    \"Alexander\", \"Alejandra\", \"Dario\", \"Wilson\", \"Sofia\", \"Casilda\",\n",
        "    \"Ermerejildo\", \"Ermerejilda\", \"Consianfirulo\", \"Transfiguracion\",\n",
        "    \"Fidelina\", \"ChatYipiti\", \"Efofriendlys\", \"Valak\", \"Yusgreidis\",\n",
        "    \"Ed\", \"Tiburcia\", \"Elsar\", \"Tamarinda\", \"Sinforoso\", \"Pancracio\",\n",
        "    \"Eustaquio\", \"Gumersinda\", \"Filomena\", \"Herculano\", \"Teodolinda\",\n",
        "    \"Segismundo\", \"Ursula\", \"Maximino\", \"Clodomiro\", \"Brunhilda\",\n",
        "    \"Gertrudis\", \"Wenceslao\", \"Leocadia\", \"Bonifacio\", \"Escolastica\",\n",
        "    \"Epifanio\", \"Crispin\", \"Jacinta\", \"Froilan\", \"Anastasio\", \"Petronila\",\n",
        "    \"Rigoberto\", \"Eufrasia\", \"Cipriano\", \"Dolores Fuertes\", \"Barriga Verde\",\n",
        "    \"Patan\", \"Gorgonio\", \"Pio\", \"Agapito\", \"Ermenegilda\", \"Hipolito\",\n",
        "    \"Pancracia\", \"Teofilo\", \"Remedios\", \"Canuto\", \"Sinforosa\", \"Evaristo\",\n",
        "    \"Pantaleon\", \"Casimiro\", \"Prudencia\", \"Gervasio\", \"Hilario\", \"Emerenciana\",\n",
        "    \"Donato\", \"Rufina\", \"Meliton\", \"Saturnina\", \"Genovevo\", \"Candelaria\",\n",
        "    \"Nicomedes\", \"Faustina\", \"Crisanto\", \"Leovigilda\", \"Escolastico\",\n",
        "    \"Petra\", \"Ceferino\", \"Baldomera\", \"Florencio\", \"Zenobia\", \"Ildefonso\",\n",
        "    \"Basilia\", \"Procopio\", \"Adelaida\", \"Benedicto\", \"Esculapio\",\n",
        "    \"Epifania\", \"Crispina\", \"Jacinto\", \"Froilana\", \"Tamarindo\",\n",
        "    \"Churrumino\", \"Ñoñardo\", \"Papalindo\", \"Torombolito\", \"Risotín\",\n",
        "    \"Fulano\", \"Mengano\", \"Zutano\", \"Perengano\"\n",
        "] # 100 names\n",
        "\n",
        "lista_pesos = [\n",
        "    69, 57, 64, 80, 55, 70, 72, 60, 68, 75,\n",
        "    58, 66, 73, 77, 62, 59, 71, 65, 56, 74, 70, 65, 58, 62, 78, 53,\n",
        "    72, 61, 85, 79, 56, 63, 76, 59, 81, 54, 70, 67, 55, 73, 68, 55,\n",
        "    75, 60, 70, 90, 120, 80, 70, 60, 65, 72, 78, 58, 63, 70, 65, 59,\n",
        "    74, 68, 55, 72, 61, 85, 79, 56, 63, 76, 59, 81, 54, 70, 67, 55,\n",
        "    73, 68, 55, 75, 60, 70, 90, 120, 80, 70, 60, 65, 72, 78, 58, 63, 70, 66, 64, 82, 77, 61, 69, 73,\n",
        "    70, 65, 58, 62, 75, 68, 71, 63, 59, 74, 67, 60, 72, 66, 80, 55, 78, 62, 65, 70\n",
        "]  # peso en Kg - 100 entries\n",
        "\n",
        "lista_alturas = [\n",
        "    1.78, 1.60, 1.64, 1.71, 1.55, 1.68, 1.73, 1.61, 1.76, 1.80,\n",
        "    1.58, 1.70, 1.75, 1.82, 1.66, 1.63, 1.74, 1.69, 1.59, 1.77, 1.65, 1.70, 1.58, 1.62, 1.85, 1.53,\n",
        "    1.72, 1.60, 1.88, 1.75, 1.56, 1.64, 1.78, 1.59, 1.80, 1.54, 1.68, 1.71, 1.55, 1.73, 1.70, 1.60,\n",
        "    1.80, 1.65, 1.75, 1.50, 2.00, 1.70, 1.65, 1.60, 1.68, 1.73, 1.80, 1.58, 1.63, 1.70, 1.65, 1.59,\n",
        "    1.77, 1.70, 1.60, 1.72, 1.60, 1.88, 1.75, 1.56, 1.64, 1.78, 1.59, 1.80, 1.54, 1.68, 1.71, 1.55,\n",
        "    1.73, 1.70, 1.60, 1.80, 1.65, 1.75, 1.50, 2.00, 1.70, 1.65, 1.60, 1.68, 1.73, 1.80, 1.58, 1.63,\n",
        "    1.70, 1.74, 1.69, 1.81, 1.67, 1.62, 1.79, 1.72, 1.65, 1.70, 1.58, 1.62, 1.75, 1.68, 1.71, 1.63, 1.59, 1.74, 1.67, 1.60, 1.72, 1.66, 1.80, 1.55, 1.78, 1.62, 1.65, 1.70\n",
        "]  # altura en m - 100 entries\n",
        "\n",
        "\n",
        "# Slice the lists to ensure exactly 100 entries immediately before creating the DataFrame\n",
        "lista_nombres = lista_nombres[:100]\n",
        "lista_pesos = lista_pesos[:100]\n",
        "lista_alturas = lista_alturas[:100]\n",
        "\n",
        "\n",
        "print(f\"Length of lista_nombres: {len(lista_nombres)}\")\n",
        "print(f\"Length of lista_pesos: {len(lista_pesos)}\")\n",
        "print(f\"Length of lista_alturas: {len(lista_alturas)}\")\n",
        "\n",
        "\n",
        "# convierte en DataFrame\n",
        "dicc_datos={\"Nombre\":lista_nombres, \"Peso\":lista_pesos, \"Altura\":lista_alturas}\n",
        "df_2 = pd.DataFrame(dicc_datos)\n",
        "df_2"
      ]
    },
    {
      "cell_type": "code",
      "source": [
        "import pandas as pd  # Importamos la librería pandas para manejar tablas (DataFrames)\n",
        "\n",
        "# Nos aseguramos de que las listas tengan exactamente 100 valores cada una\n",
        "lista_nombres = lista_nombres[:100]   # Cortamos la lista en caso de que tenga más de 100 nombres\n",
        "lista_pesos = lista_pesos[:100]       # Cortamos la lista en caso de que tenga más de 100 pesos\n",
        "lista_alturas = lista_alturas[:100]   # Cortamos la lista en caso de que tenga más de 100 alturas\n",
        "\n",
        "# Creamos un diccionario con las tres listas\n",
        "dicc_datos = {\n",
        "    \"Nombre\": lista_nombres,   # Columna de nombres\n",
        "    \"Peso\": lista_pesos,       # Columna de pesos en Kg\n",
        "    \"Altura\": lista_alturas    # Columna de alturas en metros\n",
        "}\n",
        "\n",
        "# Convertimos el diccionario en un DataFrame (tabla)\n",
        "df_2 = pd.DataFrame(dicc_datos)\n",
        "\n",
        "# Calculamos el IMC (Índice de Masa Corporal) y lo guardamos en una nueva columna\n",
        "# Fórmula: IMC = Peso (kg) / Altura^2 (m^2)\n",
        "df_2[\"IMC\"] = df_2[\"Peso\"] / (df_2[\"Altura\"] ** 2)\n",
        "\n",
        "# Definimos una función para clasificar el IMC\n",
        "def clasificar_imc(imc):\n",
        "    if imc < 18.5:          # Menos de 18.5 = bajo peso\n",
        "        return \"Peso bajo\"\n",
        "    elif imc < 25:          # Entre 18.5 y 24.9 = normal\n",
        "        return \"Normal\"\n",
        "    elif imc < 30:          # Entre 25 y 29.9 = sobrepeso\n",
        "        return \"Sobrepeso\"\n",
        "    else:                   # 30 o más = obesidad\n",
        "        return \"Obesidad\"\n",
        "\n",
        "# Aplicamos la función a cada fila de la columna IMC\n",
        "# y creamos una nueva columna \"Clasificación\"\n",
        "df_2[\"Clasificación\"] = df_2[\"IMC\"].apply(clasificar_imc)\n",
        "\n",
        "# Mostramos las primeras 10 filas de la tabla para verificar\n",
        "print(df_2.head(10))\n"
      ],
      "metadata": {
        "colab": {
          "base_uri": "https://localhost:8080/"
        },
        "id": "CfRj6DMO5-ds",
        "outputId": "d009a2a5-0434-40c6-bc56-d58da9cd4899"
      },
      "execution_count": 2,
      "outputs": [
        {
          "output_type": "stream",
          "name": "stdout",
          "text": [
            "            Nombre  Peso  Altura        IMC Clasificación\n",
            "0        Alexander    69    1.78  21.777553        Normal\n",
            "1        Alejandra    57    1.60  22.265625        Normal\n",
            "2            Dario    64    1.64  23.795360        Normal\n",
            "3           Wilson    80    1.71  27.358845     Sobrepeso\n",
            "4            Sofia    55    1.55  22.892820        Normal\n",
            "5          Casilda    70    1.68  24.801587        Normal\n",
            "6      Ermerejildo    72    1.73  24.056935        Normal\n",
            "7      Ermerejilda    60    1.61  23.147255        Normal\n",
            "8    Consianfirulo    68    1.76  21.952479        Normal\n",
            "9  Transfiguracion    75    1.80  23.148148        Normal\n"
          ]
        }
      ]
    },
    {
      "cell_type": "markdown",
      "source": [
        "# **EDA**"
      ],
      "metadata": {
        "id": "Woupr6Rk6EzH"
      }
    },
    {
      "cell_type": "code",
      "source": [
        "# Pasos de un EDA con tu dataset\n",
        "#1. Inspección inicial\n",
        "\n",
        "#Revisamos la estructura de la tabla: dimensiones, tipos de datos y primeras filas.\n",
        "\n",
        "print(df_2.shape)        # número de filas y columnas\n",
        "print(df_2.info())       # tipos de datos y nulos\n",
        "print(df_2.head())       # primeras filas"
      ],
      "metadata": {
        "colab": {
          "base_uri": "https://localhost:8080/"
        },
        "id": "M7aWSk0z6J47",
        "outputId": "5eb2df38-8fa2-4cd7-a934-ebd59ea38748"
      },
      "execution_count": 3,
      "outputs": [
        {
          "output_type": "stream",
          "name": "stdout",
          "text": [
            "(100, 5)\n",
            "<class 'pandas.core.frame.DataFrame'>\n",
            "RangeIndex: 100 entries, 0 to 99\n",
            "Data columns (total 5 columns):\n",
            " #   Column         Non-Null Count  Dtype  \n",
            "---  ------         --------------  -----  \n",
            " 0   Nombre         100 non-null    object \n",
            " 1   Peso           100 non-null    int64  \n",
            " 2   Altura         100 non-null    float64\n",
            " 3   IMC            100 non-null    float64\n",
            " 4   Clasificación  100 non-null    object \n",
            "dtypes: float64(2), int64(1), object(2)\n",
            "memory usage: 4.0+ KB\n",
            "None\n",
            "      Nombre  Peso  Altura        IMC Clasificación\n",
            "0  Alexander    69    1.78  21.777553        Normal\n",
            "1  Alejandra    57    1.60  22.265625        Normal\n",
            "2      Dario    64    1.64  23.795360        Normal\n",
            "3     Wilson    80    1.71  27.358845     Sobrepeso\n",
            "4      Sofia    55    1.55  22.892820        Normal\n"
          ]
        }
      ]
    },
    {
      "cell_type": "code",
      "source": [
        "#2. Descripción estadística\n",
        "\n",
        "#Resumimos las variables numéricas:\n",
        "\n",
        "print(df_2.describe())   # media, min, max, percentiles\n",
        "\n",
        "\n",
        "# Aquí se ve promedios de peso, altura e IMC."
      ],
      "metadata": {
        "colab": {
          "base_uri": "https://localhost:8080/"
        },
        "id": "qpOIaUKU6oI5",
        "outputId": "7c8af3fa-5288-4e30-c63c-6a8c3403cb8f"
      },
      "execution_count": 4,
      "outputs": [
        {
          "output_type": "stream",
          "name": "stdout",
          "text": [
            "             Peso      Altura         IMC\n",
            "count  100.000000  100.000000  100.000000\n",
            "mean    68.750000    1.686200   24.093881\n",
            "std     11.367484    0.096847    2.765145\n",
            "min     53.000000    1.500000   21.484375\n",
            "25%     60.000000    1.600000   22.892820\n",
            "50%     68.000000    1.690000   23.444209\n",
            "75%     74.000000    1.750000   24.250460\n",
            "max    120.000000    2.000000   40.000000\n"
          ]
        }
      ]
    },
    {
      "cell_type": "code",
      "source": [
        "#3. Valores faltantes y duplicados\n",
        "print(df_2.isnull().sum())   # nulos por columna\n",
        "print(df_2.duplicated().sum())  # filas repetidas"
      ],
      "metadata": {
        "colab": {
          "base_uri": "https://localhost:8080/"
        },
        "id": "oolcPXxf6xqg",
        "outputId": "6f7f9db7-41f8-475b-8484-5d4b1d557f62"
      },
      "execution_count": 5,
      "outputs": [
        {
          "output_type": "stream",
          "name": "stdout",
          "text": [
            "Nombre           0\n",
            "Peso             0\n",
            "Altura           0\n",
            "IMC              0\n",
            "Clasificación    0\n",
            "dtype: int64\n",
            "0\n"
          ]
        }
      ]
    },
    {
      "cell_type": "code",
      "source": [
        "#4. Distribución de variables\n",
        "\n",
        "#Podemos graficar histogramas para Peso, Altura e IMC:\n",
        "\n",
        "import matplotlib.pyplot as plt\n",
        "\n",
        "df_2[\"Peso\"].hist(bins=30)\n",
        "plt.title(\"Distribución de Peso\")\n",
        "plt.xlabel(\"Kg\")\n",
        "plt.show()\n",
        "\n",
        "df_2[\"Altura\"].hist(bins=10)\n",
        "plt.title(\"Distribución de Altura\")\n",
        "plt.xlabel(\"Metros\")\n",
        "plt.show()\n",
        "\n",
        "df_2[\"IMC\"].hist(bins=10)\n",
        "plt.title(\"Distribución de IMC\")\n",
        "plt.xlabel(\"IMC\")\n",
        "plt.show()"
      ],
      "metadata": {
        "colab": {
          "base_uri": "https://localhost:8080/",
          "height": 1000
        },
        "id": "AozVzPII60hF",
        "outputId": "acb8497d-2c1c-453e-8dbf-337369cabc80"
      },
      "execution_count": 10,
      "outputs": [
        {
          "output_type": "display_data",
          "data": {
            "text/plain": [
              "<Figure size 640x480 with 1 Axes>"
            ],
            "image/png": "[encoded data removed]"
          },
          "metadata": {}
        },
        {
          "output_type": "display_data",
          "data": {
            "text/plain": [
              "<Figure size 640x480 with 1 Axes>"
            ],
            "image/png": "[encoded data removed]"
          },
          "metadata": {}
        },
        {
          "output_type": "display_data",
          "data": {
            "text/plain": [
              "<Figure size 640x480 with 1 Axes>"
            ],
            "image/png": "[encoded data removed]"
          },
          "metadata": {}
        }
      ]
    },
    {
      "cell_type": "code",
      "source": [
        "#5. Categorías del IMC\n",
        "\n",
        "#Revisamos cuántos hay en cada categoría:\n",
        "\n",
        "print(df_2[\"Clasificación\"].value_counts())\n",
        "\n",
        "df_2[\"Clasificación\"].value_counts().plot(kind=\"bar\")\n",
        "plt.title(\"Clasificación IMC según OMS\")\n",
        "plt.show()"
      ],
      "metadata": {
        "colab": {
          "base_uri": "https://localhost:8080/",
          "height": 618
        },
        "id": "o7ECBXt2631y",
        "outputId": "36cbcad0-f4da-4988-dd41-09c3bd9553b8"
      },
      "execution_count": 7,
      "outputs": [
        {
          "output_type": "stream",
          "name": "stdout",
          "text": [
            "Clasificación\n",
            "Normal       83\n",
            "Sobrepeso    13\n",
            "Obesidad      4\n",
            "Name: count, dtype: int64\n"
          ]
        },
        {
          "output_type": "display_data",
          "data": {
            "text/plain": [
              "<Figure size 640x480 with 1 Axes>"
            ],
            "image/png": "[encoded data removed]"
          },
          "metadata": {}
        }
      ]
    },
    {
      "cell_type": "code",
      "source": [
        "#6. Relaciones entre variables (correlaciones)\n",
        "corr = df_2[[\"Peso\",\"Altura\",\"IMC\"]].corr()\n",
        "print(corr)\n",
        "\n",
        "import seaborn as sns\n",
        "sns.heatmap(corr, annot=True, cmap=\"coolwarm\")\n",
        "plt.title(\"Matriz de correlación\")\n",
        "plt.show()\n",
        "\n",
        "\n",
        "# Esto muestra qué tan relacionadas están Peso, Altura e IMC."
      ],
      "metadata": {
        "colab": {
          "base_uri": "https://localhost:8080/",
          "height": 521
        },
        "id": "WaP3d3BU66BV",
        "outputId": "9c220f83-fc47-4129-de61-363b21d75341"
      },
      "execution_count": 8,
      "outputs": [
        {
          "output_type": "stream",
          "name": "stdout",
          "text": [
            "            Peso    Altura       IMC\n",
            "Peso    1.000000  0.762686  0.635533\n",
            "Altura  0.762686  1.000000  0.003586\n",
            "IMC     0.635533  0.003586  1.000000\n"
          ]
        },
        {
          "output_type": "display_data",
          "data": {
            "text/plain": [
              "<Figure size 640x480 with 2 Axes>"
            ],
            "image/png": "[encoded data removed]"
          },
          "metadata": {}
        }
      ]
    },
    {
      "cell_type": "code",
      "source": [
        "#7. Detección de outliers\n",
        "\n",
        "#Podemos revisar valores extremos en peso, altura o IMC:\n",
        "\n",
        "plt.boxplot(df_2[\"Peso\"])\n",
        "plt.title(\"Outliers en Peso\")\n",
        "plt.show()\n",
        "\n",
        "plt.boxplot(df_2[\"Altura\"])\n",
        "plt.title(\"Outliers en Altura\")\n",
        "plt.show()\n",
        "\n",
        "plt.boxplot(df_2[\"IMC\"])\n",
        "plt.title(\"Outliers en IMC\")\n",
        "plt.show()\n",
        "\n",
        "\n",
        "#Si ves, por ejemplo, un Peso = 120 kg con altura baja, puede destacarse como outlier."
      ],
      "metadata": {
        "colab": {
          "base_uri": "https://localhost:8080/",
          "height": 1000
        },
        "id": "3z_6LnNl68kz",
        "outputId": "0991fa67-b7a8-44e5-c779-fd909fd9fd0f"
      },
      "execution_count": 9,
      "outputs": [
        {
          "output_type": "display_data",
          "data": {
            "text/plain": [
              "<Figure size 640x480 with 1 Axes>"
            ],
            "image/png": "[encoded data removed]"
          },
          "metadata": {}
        },
        {
          "output_type": "display_data",
          "data": {
            "text/plain": [
              "<Figure size 640x480 with 1 Axes>"
            ],
            "image/png": "[encoded data removed]"
          },
          "metadata": {}
        },
        {
          "output_type": "display_data",
          "data": {
            "text/plain": [
              "<Figure size 640x480 with 1 Axes>"
            ],
            "image/png": "[encoded data removed]"
          },
          "metadata": {}
        }
      ]
    },
    {
      "cell_type": "markdown",
      "source": [
        "8. Conclusiones preliminares\n",
        "\n",
        "Distribución de pesos y alturas.\n",
        "\n",
        "Proporción de personas en normal, sobrepeso, obesidad.\n",
        "\n",
        "Posibles outliers (pesos altos o muy bajos).\n",
        "\n",
        "Relación fuerte entre Peso e IMC (esperable)."
      ],
      "metadata": {
        "id": "am-w7Kdy7EPr"
      }
    }
  ]
}