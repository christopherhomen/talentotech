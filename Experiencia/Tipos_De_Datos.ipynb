{
  "nbformat": 4,
  "nbformat_minor": 0,
  "metadata": {
    "colab": {
      "provenance": []
    },
    "kernelspec": {
      "name": "python3",
      "display_name": "Python 3"
    },
    "language_info": {
      "name": "python"
    }
  },
  "cells": [
    {
      "cell_type": "code",
      "execution_count": null,
      "metadata": {
        "id": "etmHA_DfhH-x"
      },
      "outputs": [],
      "source": [
        "#Lista\n",
        "\n",
        "lista_hamburguesa = [\"Pan\", \"Queso\", \"Jamon\", \"Tomate\", \"Cebolla\", \"Carne\", \"Papas\"]\n",
        "lista_hot_dog = [\"Pan\", \"Salchicha\", \"Papa Chips\", \"Huevo\", \"Queso\"]\n",
        "print(\"\\nListas: \\n\")\n",
        "print(lista_hamburguesa)\n",
        "print(lista_hot_dog)\n",
        "\n",
        "#Tupla\n",
        "tupla_cubiertos = (\"tenedor\", \"cuchara\", \"cuchillo\")\n",
        "tupla_vajilla = (\"vaso\", \"plato_llano\", \"plato_hondo\")\n",
        "print(\"\\nTuplas: \\n\")\n",
        "print(tupla_cubiertos)\n",
        "print(tupla_vajilla)\n",
        "\n",
        "#Conjunto\n",
        "conjunto_figuras = {\"circulo\", \"cuadrado\", \"rectangulo\", \"triangulo\"}\n",
        "conjunto_animales_magicos = {\"oso_marino\", \"rinoceronte_marino\", \"dinosaurio\", \"elefante_mitico_ancestral\"}\n",
        "print(\"\\nConjuntos\\n\")\n",
        "print(conjunto_figuras)\n",
        "print(conjunto_animales_magicos)\n",
        "\n",
        "#Diccionario\n",
        "\n",
        "diccionario_sarcastico = {\n",
        "    \"lunes\": \"Venganza del calendario.\",\n",
        "    \"wifi\": \"Miembro favorito de la familia.\",\n",
        "    \"adulto\": \"Niño con deudas.\"\n",
        "}\n",
        "\n",
        "diccionario_imaginario = {\n",
        "    \"cafesio\": \"Humano sin café. Peligroso.\",\n",
        "    \"teclastérico\": \"Teclado con vida propia.\",\n",
        "    \"memeficar\": \"Hacer meme de todo.\"\n",
        "}\n",
        "print(\"\\nDiccionario\\n\")\n",
        "print(diccionario_sarcastico)\n",
        "print(diccionario_imaginario)\n",
        "\n",
        "#Operaciones con conjuntos:\n",
        "union = conjunto_figuras | conjunto_animales_magicos\n",
        "print(\"Unión:\", union)\n",
        "\n",
        "interseccion = conjunto_figuras & conjunto_animales_magicos\n",
        "print(\"Intersección:\", interseccion)\n",
        "\n",
        "diferencia = conjunto_figuras - conjunto_animales_magicos\n",
        "print(\"Diferencia:\", diferencia)\n",
        "\n",
        "diferencia_simetrica = conjunto_figuras ^ conjunto_animales_magicos\n",
        "print(\"Diferencia simétrica:\", diferencia_simetrica)\n",
        "\n",
        "universo = conjunto_figuras | conjunto_animales_magicos  # suponiendo que es el universo\n",
        "\n",
        "complemento_figuras = universo - conjunto_figuras\n",
        "print(\"Complemento de figuras:\", complemento_figuras)\n"
      ]
    }
  ]
}